{
 "cells": [
  {
   "cell_type": "code",
   "execution_count": 1,
   "metadata": {
    "collapsed": true
   },
   "outputs": [],
   "source": [
    "import tensorflow as tf\n",
    "import numpy as np\n",
    "import matplotlib.pyplot as plt"
   ]
  },
  {
   "cell_type": "code",
   "execution_count": 2,
   "metadata": {
    "collapsed": true
   },
   "outputs": [],
   "source": [
    "%matplotlib inline"
   ]
  },
  {
   "cell_type": "markdown",
   "metadata": {},
   "source": [
    "# Before adding in summary"
   ]
  },
  {
   "cell_type": "code",
   "execution_count": 10,
   "metadata": {
    "collapsed": false
   },
   "outputs": [],
   "source": [
    "x = np.random.normal(scale=1.5, size=[20])\n",
    "b = np.random.normal(scale=2, size=[20])\n",
    "y = (3 * x) + (2 * b)\n",
    "\n",
    "x_placeholder = tf.placeholder(tf.float32, [None], name='x')\n",
    "y_placeholder = tf.placeholder(tf.float32, [None], name='y')\n",
    "m = tf.Variable(tf.truncated_normal([]), name='m')\n",
    "b = tf.Variable(tf.constant(0, dtype=tf.float32), name='b')\n",
    "y_hat = tf.mul(m, x_placeholder) + b\n",
    "\n",
    "error = tf.reduce_mean(tf.square(y_hat - y_placeholder), name='MSE')\n",
    "train = tf.train.GradientDescentOptimizer(0.05).minimize(error)\n",
    "init = tf.initialize_all_variables()"
   ]
  },
  {
   "cell_type": "markdown",
   "metadata": {
    "collapsed": false
   },
   "source": [
    "# After adding in summaries"
   ]
  },
  {
   "cell_type": "code",
   "execution_count": 11,
   "metadata": {
    "collapsed": false
   },
   "outputs": [],
   "source": [
    "# Explicitly create and use graph\n",
    "graph = tf.Graph()\n",
    "with graph.as_default():\n",
    "    x = np.random.normal(scale=1.5, size=[20])\n",
    "    b = np.random.normal(scale=2, size=[20])\n",
    "    y = (3 * x) + (2 * b)\n",
    "\n",
    "    x_placeholder = tf.placeholder(tf.float32, [None], name='x')\n",
    "    y_placeholder = tf.placeholder(tf.float32, [None], name='y')\n",
    "    learning_rate = tf.placeholder(tf.float32, [None], name='learning_rate')\n",
    "    m = tf.Variable(tf.truncated_normal([]), name='m')\n",
    "    b = tf.Variable(tf.constant(0, dtype=tf.float32), name='b')\n",
    "    y_hat = tf.mul(m, x_placeholder) + b\n",
    "\n",
    "    error = tf.reduce_mean(tf.square(y_hat - y_placeholder), name='MSE')\n",
    "    error_summary = tf.scalar_summary('error', error) # Error summary\n",
    "    \n",
    "    # step counter\n",
    "    global_step = tf.Variable(0, trainable=False, name='global_step')\n",
    "    # Operation to increment step\n",
    "    inc_step = global_step.assign_add(1) \n",
    "\n",
    "    train = tf.train.GradientDescentOptimizer(0.05).minimize(error)\n",
    "    init = tf.initialize_all_variables()\n",
    "    merged = tf.merge_all_summaries()"
   ]
  },
  {
   "cell_type": "code",
   "execution_count": 13,
   "metadata": {
    "collapsed": false
   },
   "outputs": [
    {
     "ename": "ValueError",
     "evalue": "Cannot feed value of shape () for Tensor u'learning_rate:0', which has shape '(?,)'",
     "output_type": "error",
     "traceback": [
      "\u001b[1;31m---------------------------------------------------------------------------\u001b[0m",
      "\u001b[1;31mValueError\u001b[0m                                Traceback (most recent call last)",
      "\u001b[1;32m<ipython-input-13-2ba275f73b1d>\u001b[0m in \u001b[0;36m<module>\u001b[1;34m()\u001b[0m\n\u001b[0;32m     10\u001b[0m     }\n\u001b[0;32m     11\u001b[0m     err, summaries, step, _ = sess.run([error, merged, inc_step, train], \n\u001b[1;32m---> 12\u001b[1;33m                                        feed_dict=feed_dict)\n\u001b[0m\u001b[0;32m     13\u001b[0m     \u001b[1;32mprint\u001b[0m\u001b[1;33m(\u001b[0m\u001b[0mstr\u001b[0m\u001b[1;33m(\u001b[0m\u001b[0mi\u001b[0m\u001b[1;33m)\u001b[0m \u001b[1;33m+\u001b[0m \u001b[1;34m\":\\tMSE: %.3f\"\u001b[0m \u001b[1;33m%\u001b[0m \u001b[0merr\u001b[0m\u001b[1;33m)\u001b[0m\u001b[1;33m\u001b[0m\u001b[0m\n\u001b[0;32m     14\u001b[0m     \u001b[0mwriter\u001b[0m\u001b[1;33m.\u001b[0m\u001b[0madd_summary\u001b[0m\u001b[1;33m(\u001b[0m\u001b[0msummaries\u001b[0m\u001b[1;33m,\u001b[0m \u001b[0mglobal_step\u001b[0m\u001b[1;33m=\u001b[0m\u001b[0mstep\u001b[0m\u001b[1;33m)\u001b[0m\u001b[1;33m\u001b[0m\u001b[0m\n",
      "\u001b[1;32m/home/ubuntu/anaconda2/lib/python2.7/site-packages/tensorflow/python/client/session.pyc\u001b[0m in \u001b[0;36mrun\u001b[1;34m(self, fetches, feed_dict, options, run_metadata)\u001b[0m\n\u001b[0;32m    370\u001b[0m     \u001b[1;32mtry\u001b[0m\u001b[1;33m:\u001b[0m\u001b[1;33m\u001b[0m\u001b[0m\n\u001b[0;32m    371\u001b[0m       result = self._run(None, fetches, feed_dict, options_ptr,\n\u001b[1;32m--> 372\u001b[1;33m                          run_metadata_ptr)\n\u001b[0m\u001b[0;32m    373\u001b[0m       \u001b[1;32mif\u001b[0m \u001b[0mrun_metadata\u001b[0m\u001b[1;33m:\u001b[0m\u001b[1;33m\u001b[0m\u001b[0m\n\u001b[0;32m    374\u001b[0m         \u001b[0mproto_data\u001b[0m \u001b[1;33m=\u001b[0m \u001b[0mtf_session\u001b[0m\u001b[1;33m.\u001b[0m\u001b[0mTF_GetBuffer\u001b[0m\u001b[1;33m(\u001b[0m\u001b[0mrun_metadata_ptr\u001b[0m\u001b[1;33m)\u001b[0m\u001b[1;33m\u001b[0m\u001b[0m\n",
      "\u001b[1;32m/home/ubuntu/anaconda2/lib/python2.7/site-packages/tensorflow/python/client/session.pyc\u001b[0m in \u001b[0;36m_run\u001b[1;34m(self, handle, fetches, feed_dict, options, run_metadata)\u001b[0m\n\u001b[0;32m    623\u001b[0m                 \u001b[1;34m'Cannot feed value of shape %r for Tensor %r, '\u001b[0m\u001b[1;33m\u001b[0m\u001b[0m\n\u001b[0;32m    624\u001b[0m                 \u001b[1;34m'which has shape %r'\u001b[0m\u001b[1;33m\u001b[0m\u001b[0m\n\u001b[1;32m--> 625\u001b[1;33m                 % (np_val.shape, subfeed_t.name, str(subfeed_t.get_shape())))\n\u001b[0m\u001b[0;32m    626\u001b[0m           \u001b[1;32mif\u001b[0m \u001b[1;32mnot\u001b[0m \u001b[0mself\u001b[0m\u001b[1;33m.\u001b[0m\u001b[0mgraph\u001b[0m\u001b[1;33m.\u001b[0m\u001b[0mis_feedable\u001b[0m\u001b[1;33m(\u001b[0m\u001b[0msubfeed_t\u001b[0m\u001b[1;33m)\u001b[0m\u001b[1;33m:\u001b[0m\u001b[1;33m\u001b[0m\u001b[0m\n\u001b[0;32m    627\u001b[0m             \u001b[1;32mraise\u001b[0m \u001b[0mValueError\u001b[0m\u001b[1;33m(\u001b[0m\u001b[1;34m'Tensor %s may not be fed.'\u001b[0m \u001b[1;33m%\u001b[0m \u001b[0msubfeed_t\u001b[0m\u001b[1;33m)\u001b[0m\u001b[1;33m\u001b[0m\u001b[0m\n",
      "\u001b[1;31mValueError\u001b[0m: Cannot feed value of shape () for Tensor u'learning_rate:0', which has shape '(?,)'"
     ]
    }
   ],
   "source": [
    "sess = tf.Session(graph=graph) # Pass in graph to use\n",
    "writer = tf.train.SummaryWriter(logdir='tensorboard/linear', graph=graph)\n",
    "sess.run(init)\n",
    "\n",
    "for i in range(50):\n",
    "    feed_dict = {\n",
    "        x_placeholder: x,\n",
    "        y_placeholder: y,\n",
    "        learning_rate: 0.01\n",
    "    }\n",
    "    err, summaries, step, _ = sess.run([error, merged, inc_step, train], \n",
    "                                       feed_dict=feed_dict)\n",
    "    print(str(i) + \":\\tMSE: %.3f\" % err)\n",
    "    writer.add_summary(summaries, global_step=step)\n",
    "\n",
    "    \n",
    "sess.close()\n",
    "writer.close()"
   ]
  },
  {
   "cell_type": "markdown",
   "metadata": {
    "collapsed": false
   },
   "source": [
    "In a console, run the following command:\n",
    "\n",
    "```bash\n",
    "$ tensorboard --logdir='tensorboard/linear' --port=6006\n",
    "```\n",
    "\n",
    "By default, this command will start a TensorBoard server on `localhost:6006`. Once it's running, open up `localhost:6006` in your browser.\n",
    "\n",
    "If you get an error stating that the port is in use, simply change the port number in the command.\n",
    "    "
   ]
  },
  {
   "cell_type": "code",
   "execution_count": null,
   "metadata": {
    "collapsed": false
   },
   "outputs": [],
   "source": []
  },
  {
   "cell_type": "code",
   "execution_count": null,
   "metadata": {
    "collapsed": false
   },
   "outputs": [],
   "source": []
  },
  {
   "cell_type": "code",
   "execution_count": null,
   "metadata": {
    "collapsed": true
   },
   "outputs": [],
   "source": []
  }
 ],
 "metadata": {
  "kernelspec": {
   "display_name": "Python [Root]",
   "language": "python",
   "name": "Python [Root]"
  },
  "language_info": {
   "codemirror_mode": {
    "name": "ipython",
    "version": 2
   },
   "file_extension": ".py",
   "mimetype": "text/x-python",
   "name": "python",
   "nbconvert_exporter": "python",
   "pygments_lexer": "ipython2",
   "version": "2.7.12"
  }
 },
 "nbformat": 4,
 "nbformat_minor": 0
}
