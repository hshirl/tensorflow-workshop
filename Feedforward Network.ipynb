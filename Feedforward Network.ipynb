{
 "cells": [
  {
   "cell_type": "code",
   "execution_count": 1,
   "metadata": {
    "collapsed": true
   },
   "outputs": [],
   "source": [
    "# Import core TensorFlow modules\n",
    "import tensorflow as tf\n",
    "import numpy as np"
   ]
  },
  {
   "cell_type": "code",
   "execution_count": 2,
   "metadata": {
    "collapsed": true
   },
   "outputs": [],
   "source": [
    "# Modules required for file download and extraction\n",
    "import os\n",
    "import sys\n",
    "import tarfile\n",
    "from six.moves.urllib.request import urlretrieve\n",
    "from scipy import ndimage"
   ]
  },
  {
   "cell_type": "markdown",
   "metadata": {},
   "source": [
    "# It's notMNIST! Don't worry, we won't be here for long."
   ]
  },
  {
   "cell_type": "code",
   "execution_count": 3,
   "metadata": {
    "collapsed": true
   },
   "outputs": [],
   "source": [
    "# Directory to download dataset\n",
    "DATASET_DIR = 'data/notmnist/'\n",
    "\n",
    "# Directory to save TensorBoard summary statistics, graph data, etc\n",
    "TB_DIR = 'tensorboard/feedforward'\n",
    "\n",
    "if not os.path.exists(DATASET_DIR):\n",
    "    os.mkdir(DATASET_DIR)"
   ]
  },
  {
   "cell_type": "code",
   "execution_count": 4,
   "metadata": {
    "collapsed": true
   },
   "outputs": [],
   "source": [
    "def maybe_download(filename, url, force=False):\n",
    "    \"\"\"Download a file if not present.\"\"\"\n",
    "    if force or not os.path.exists(DATASET_DIR + filename):\n",
    "        filename, _ = urlretrieve(url + filename, DATASET_DIR + filename)\n",
    "        print('\\nDownload complete for {}'.format(filename))\n",
    "        return filename\n",
    "    else:\n",
    "        print('File {} already present.'.format(filename))\n",
    "    return DATASET_DIR + filename\n",
    "\n",
    "def maybe_extract(filename, force=False):\n",
    "    root = os.path.splitext(os.path.splitext(filename)[0])[0]  # remove .tar.gz\n",
    "    if os.path.isdir(root) and not force:\n",
    "        # You may override by setting force=True.\n",
    "        print('{} already present - don\\'t need to extract {}.'.format(root, filename))\n",
    "    else:\n",
    "        print('Extracting data for {}. This may take a while. Please wait.'.format(root))\n",
    "        tar = tarfile.open(filename)\n",
    "        sys.stdout.flush()\n",
    "        tar.extractall(root[0:root.rfind('/') + 1])\n",
    "        tar.close()\n",
    "    data_folders = [\n",
    "        os.path.join(root, d) for d in sorted(os.listdir(root))\n",
    "        if os.path.isdir(os.path.join(root, d))]\n",
    "    print(data_folders)\n",
    "    return data_folders"
   ]
  },
  {
   "cell_type": "code",
   "execution_count": 5,
   "metadata": {
    "collapsed": true
   },
   "outputs": [],
   "source": [
    "# Locations to download data:\n",
    "url = 'http://yaroslavvb.com/upload/notMNIST/'"
   ]
  },
  {
   "cell_type": "code",
   "execution_count": 6,
   "metadata": {
    "collapsed": false
   },
   "outputs": [
    {
     "name": "stdout",
     "output_type": "stream",
     "text": [
      "\n",
      "Download complete for data/notmnist/notMNIST_small.tar.gz\n"
     ]
    }
   ],
   "source": [
    "# Download notMNIST small dataset\n",
    "train_zip_path = maybe_download('notMNIST_small.tar.gz', url)"
   ]
  },
  {
   "cell_type": "code",
   "execution_count": 7,
   "metadata": {
    "collapsed": false
   },
   "outputs": [
    {
     "name": "stdout",
     "output_type": "stream",
     "text": [
      "Extracting data for data/notmnist/notMNIST_small. This may take a while. Please wait.\n",
      "['data/notmnist/notMNIST_small/A', 'data/notmnist/notMNIST_small/B', 'data/notmnist/notMNIST_small/C', 'data/notmnist/notMNIST_small/D', 'data/notmnist/notMNIST_small/E', 'data/notmnist/notMNIST_small/F', 'data/notmnist/notMNIST_small/G', 'data/notmnist/notMNIST_small/H', 'data/notmnist/notMNIST_small/I', 'data/notmnist/notMNIST_small/J']\n"
     ]
    }
   ],
   "source": [
    "# Extract datasets\n",
    "train_folders = maybe_extract(train_zip_path)"
   ]
  },
  {
   "cell_type": "code",
   "execution_count": 8,
   "metadata": {
    "collapsed": false
   },
   "outputs": [
    {
     "data": {
      "text/plain": [
       "10"
      ]
     },
     "execution_count": 8,
     "metadata": {},
     "output_type": "execute_result"
    }
   ],
   "source": [
    "len(train_folders)"
   ]
  },
  {
   "cell_type": "markdown",
   "metadata": {},
   "source": [
    "# Load in the data"
   ]
  },
  {
   "cell_type": "code",
   "execution_count": 9,
   "metadata": {
    "collapsed": true
   },
   "outputs": [],
   "source": [
    "image_height = 28  # Pixel height of images\n",
    "image_width = 28  # Pixel width of images\n",
    "pixel_depth = 255.0  # Number of levels per pixel\n",
    "expected_img_shape = (image_height, image_width)  # Black and white image, no 3rd dimension\n",
    "num_labels = len(train_folders)\n",
    "\n",
    "def load_image_folder(folder):\n",
    "    \"\"\"Load the data for a single image label.\"\"\"\n",
    "\n",
    "    # Create a list of image paths inside the folder  \n",
    "    image_files = os.listdir(folder)\n",
    "    # Create empty numpy array to hold data\n",
    "    dataset = np.ndarray(shape=(len(image_files), image_height, image_width),\n",
    "                         dtype=np.float32)\n",
    "    num_images = 0  # Counter for number of successful images loaded\n",
    "    for image in image_files:\n",
    "        image_file = os.path.join(folder, image)\n",
    "        try:\n",
    "            # Read in image pixel data as floating point values\n",
    "            image_data = ndimage.imread(image_file).astype(float)\n",
    "            # Scale values: [0.0, 255.0] => [-1.0, 1.0] \n",
    "            image_data = (image_data - pixel_depth / 2) / (pixel_depth / 2)\n",
    "            if image_data.shape != expected_img_shape:\n",
    "                print('File {} has unexpected dimensions: '.format(str(image_data.shape)))\n",
    "                continue\n",
    "            # Add image to the numpy array dataset\n",
    "            dataset[num_images, :, :] = image_data\n",
    "            num_images = num_images + 1\n",
    "        except IOError as e:\n",
    "            print('Could not read:', image_file, ':', e, '- skipping this file and moving on.')\n",
    "  \n",
    "    # Trim dataset to remove unused space\n",
    "    dataset = dataset[0:num_images, :, :]\n",
    "    return dataset"
   ]
  },
  {
   "cell_type": "code",
   "execution_count": 10,
   "metadata": {
    "collapsed": false
   },
   "outputs": [],
   "source": [
    "def make_data_label_arrays(num_rows, image_height, image_width):\n",
    "    \"\"\"\n",
    "    Creates and returns empty numpy arrays for input data and labels\n",
    "    \"\"\"\n",
    "    if num_rows:\n",
    "        dataset = np.ndarray((num_rows, image_height, image_width), dtype=np.float32)\n",
    "        labels = np.ndarray(num_rows, dtype=np.int32)\n",
    "    else:\n",
    "        dataset, labels = None, None\n",
    "    return dataset, labels\n",
    "\n",
    "def collect_datasets(data_folders):\n",
    "    datasets = []\n",
    "    total_images = 0\n",
    "    for label, data_folder in enumerate(data_folders):\n",
    "        # Bring all test folder images in as numpy arrays\n",
    "        dataset = load_image_folder(data_folder)\n",
    "        num_images = len(dataset)\n",
    "        total_images += num_images\n",
    "        datasets.append((dataset, label, num_images))\n",
    "    return datasets, total_images\n",
    "\n",
    "def merge_train_test_datasets(datasets, total_images, percent_test):\n",
    "    num_train = total_images * (1.0 - percent_test)\n",
    "    num_test = total_images * percent_test\n",
    "    train_dataset, train_labels = make_data_label_arrays(num_train, image_height, image_width)\n",
    "    test_dataset, test_labels = make_data_label_arrays(num_test, image_height, image_width)\n",
    "    \n",
    "    train_counter = 0\n",
    "    test_counter = 0\n",
    "    dataset_counter = 1\n",
    "    for dataset, label, num_images in datasets:\n",
    "        np.random.shuffle(dataset)\n",
    "        if dataset_counter != len(datasets):\n",
    "            n_v = num_images // (1.0 / percent_test)\n",
    "            n_t = num_images - n_v\n",
    "        else:\n",
    "            # Last label, make sure dataset sizes match up to what we created\n",
    "            n_v = len(test_dataset) - test_counter\n",
    "            n_t = len(train_dataset) - train_counter\n",
    "        train_dataset[train_counter: train_counter + n_t] = dataset[:n_t]\n",
    "        train_labels[train_counter: train_counter + n_t] = label\n",
    "        test_dataset[test_counter: test_counter + n_v] = dataset[n_t: n_t + n_v]\n",
    "        test_labels[test_counter: test_counter + n_v] = label\n",
    "        train_counter += n_t\n",
    "        test_counter += n_v\n",
    "        dataset_counter += 1\n",
    "    return train_dataset, train_labels, test_dataset, test_labels"
   ]
  },
  {
   "cell_type": "code",
   "execution_count": 11,
   "metadata": {
    "collapsed": false
   },
   "outputs": [
    {
     "name": "stdout",
     "output_type": "stream",
     "text": [
      "('Could not read:', 'data/notmnist/notMNIST_small/A/RGVtb2NyYXRpY2FCb2xkT2xkc3R5bGUgQm9sZC50dGY=.png', ':', IOError(\"cannot identify image file 'data/notmnist/notMNIST_small/A/RGVtb2NyYXRpY2FCb2xkT2xkc3R5bGUgQm9sZC50dGY=.png'\",), '- skipping this file and moving on.')\n",
      "('Could not read:', 'data/notmnist/notMNIST_small/F/Q3Jvc3NvdmVyIEJvbGRPYmxpcXVlLnR0Zg==.png', ':', IOError(\"cannot identify image file 'data/notmnist/notMNIST_small/F/Q3Jvc3NvdmVyIEJvbGRPYmxpcXVlLnR0Zg==.png'\",), '- skipping this file and moving on.')\n"
     ]
    }
   ],
   "source": [
    "train_test_datasets, train_test_total_images = collect_datasets(train_folders)"
   ]
  },
  {
   "cell_type": "code",
   "execution_count": 12,
   "metadata": {
    "collapsed": false
   },
   "outputs": [
    {
     "name": "stderr",
     "output_type": "stream",
     "text": [
      "/home/ubuntu/anaconda2/lib/python2.7/site-packages/ipykernel/__main__.py:6: VisibleDeprecationWarning: using a non-integer number instead of an integer will result in an error in the future\n",
      "/home/ubuntu/anaconda2/lib/python2.7/site-packages/ipykernel/__main__.py:7: VisibleDeprecationWarning: using a non-integer number instead of an integer will result in an error in the future\n",
      "/home/ubuntu/anaconda2/lib/python2.7/site-packages/ipykernel/__main__.py:41: VisibleDeprecationWarning: using a non-integer number instead of an integer will result in an error in the future\n",
      "/home/ubuntu/anaconda2/lib/python2.7/site-packages/ipykernel/__main__.py:42: VisibleDeprecationWarning: using a non-integer number instead of an integer will result in an error in the future\n",
      "/home/ubuntu/anaconda2/lib/python2.7/site-packages/ipykernel/__main__.py:43: VisibleDeprecationWarning: using a non-integer number instead of an integer will result in an error in the future\n",
      "/home/ubuntu/anaconda2/lib/python2.7/site-packages/ipykernel/__main__.py:44: VisibleDeprecationWarning: using a non-integer number instead of an integer will result in an error in the future\n"
     ]
    }
   ],
   "source": [
    "train_dataset, train_labels, test_dataset, test_labels = \\\n",
    "  merge_train_test_datasets(train_test_datasets, train_test_total_images, 0.1)"
   ]
  },
  {
   "cell_type": "code",
   "execution_count": 13,
   "metadata": {
    "collapsed": false
   },
   "outputs": [
    {
     "data": {
      "text/plain": [
       "16851"
      ]
     },
     "execution_count": 13,
     "metadata": {},
     "output_type": "execute_result"
    }
   ],
   "source": [
    "len(train_dataset)"
   ]
  },
  {
   "cell_type": "markdown",
   "metadata": {},
   "source": [
    "# Convert (height, width, channels) to vector\n",
    "\n",
    "```\n",
    "Previous example shape:\n",
    "(10, 10, 3)\n",
    "\n",
    "New vector:\n",
    "[300]\n",
    "```\n",
    "\n",
    "# Convert integer label with one-hot vector\n",
    "\n",
    "```\n",
    "Previous label:\n",
    "4\n",
    "\n",
    "New one-hot vector (assuming 10 labels)\n",
    "[0, 0, 0, 0, 1, 0, 0, 0, 0, 0]\n",
    "```"
   ]
  },
  {
   "cell_type": "code",
   "execution_count": 14,
   "metadata": {
    "collapsed": true
   },
   "outputs": [],
   "source": [
    "# Convert data examples flattened vectors\n",
    "# Convert labels to one-hot encoding\n",
    "num_channels = 1  # grayscale\n",
    "def reformat(dataset, labels):\n",
    "    dataset = dataset.reshape( (-1, image_height * image_width)).astype(np.float32)\n",
    "    labels = (np.arange(num_labels) == labels[:,None]).astype(np.float32)\n",
    "    return dataset, labels"
   ]
  },
  {
   "cell_type": "code",
   "execution_count": 15,
   "metadata": {
    "collapsed": true
   },
   "outputs": [],
   "source": [
    "train_dataset, train_labels = reformat(train_dataset, train_labels)\n",
    "test_dataset, test_labels = reformat(test_dataset, test_labels)"
   ]
  },
  {
   "cell_type": "code",
   "execution_count": 16,
   "metadata": {
    "collapsed": false
   },
   "outputs": [
    {
     "name": "stdout",
     "output_type": "stream",
     "text": [
      "('Training set', (16851, 784), (16851, 10))\n",
      "('Test set', (1872, 784), (1872, 10))\n"
     ]
    }
   ],
   "source": [
    "print('Training set', train_dataset.shape, train_labels.shape)\n",
    "print('Test set', test_dataset.shape, test_labels.shape)"
   ]
  },
  {
   "cell_type": "markdown",
   "metadata": {},
   "source": [
    "# Shuffle data/labels in unison"
   ]
  },
  {
   "cell_type": "code",
   "execution_count": 17,
   "metadata": {
    "collapsed": true
   },
   "outputs": [],
   "source": [
    "def shuffle_data_with_labels(dataset, labels):\n",
    "    indices = range(len(dataset))\n",
    "    np.random.shuffle(indices)\n",
    "    new_data = np.ndarray(dataset.shape, dataset.dtype)\n",
    "    new_labels = np.ndarray(labels.shape, dataset.dtype)\n",
    "    n = 0\n",
    "    for i in indices:\n",
    "        new_data[n] = dataset[i]\n",
    "        new_labels[n] = labels[i]\n",
    "        n += 1\n",
    "    return new_data, new_labels"
   ]
  },
  {
   "cell_type": "code",
   "execution_count": 18,
   "metadata": {
    "collapsed": false
   },
   "outputs": [],
   "source": [
    "train_dataset, train_labels = shuffle_data_with_labels(train_dataset, train_labels)"
   ]
  },
  {
   "cell_type": "markdown",
   "metadata": {},
   "source": [
    "# Actually create our model!"
   ]
  },
  {
   "cell_type": "code",
   "execution_count": 19,
   "metadata": {
    "collapsed": false
   },
   "outputs": [],
   "source": [
    "batch_size = 64\n",
    "\n",
    "num_hidden_1 = 300\n",
    "num_hidden_2 = 150\n",
    "num_hidden_3 = 50\n",
    "\n",
    "# Input data.\n",
    "input_data = tf.placeholder(tf.float32, shape=(None, image_height * image_width), name=\"input_data\")\n",
    "input_labels = tf.placeholder(tf.float32, shape=(None, num_labels), name=\"input_labels\")\n",
    "  \n",
    "with tf.name_scope('hidden1'):\n",
    "    weights = tf.Variable(tf.truncated_normal([image_height * image_width, num_hidden_1]), name='weights')\n",
    "    biases = tf.Variable(tf.zeros([num_hidden_1]), name='biases')\n",
    "    hidden1 = tf.nn.sigmoid(tf.matmul(input_data, weights) + biases)\n",
    "\n",
    "with tf.name_scope('hidden2'):\n",
    "    weights = tf.Variable(tf.truncated_normal([num_hidden_1, num_hidden_2]), name='weights')\n",
    "    biases = tf.Variable(tf.zeros([num_hidden_2]), name='biases')\n",
    "    hidden2 = tf.nn.sigmoid(tf.matmul(hidden1, weights) + biases)\n",
    "\n",
    "with tf.name_scope('hidden3'):\n",
    "    weights = tf.Variable(tf.truncated_normal([num_hidden_2, num_hidden_3]), name='weights')\n",
    "    biases = tf.Variable(tf.zeros([num_hidden_3]), name='biases')\n",
    "    hidden3 = tf.nn.sigmoid(tf.matmul(hidden2, weights) + biases)\n",
    "\n",
    "with tf.name_scope('output_layer'):\n",
    "    weights = tf.Variable(tf.truncated_normal([num_hidden_3, num_labels]), name='weights')\n",
    "    biases = tf.Variable(tf.zeros([num_labels]), name='biases')\n",
    "    logits = tf.matmul(hidden3, weights) + biases\n",
    "\n",
    "loss = tf.reduce_mean(tf.nn.softmax_cross_entropy_with_logits(logits, input_labels))\n",
    "    \n",
    "# Optimizer.\n",
    "optimizer = tf.train.GradientDescentOptimizer(0.05).minimize(loss)\n",
    "  \n",
    "# Predictions for the training and test data.\n",
    "model_prediction = tf.nn.softmax(logits, name=\"prediction\")\n",
    "label_prediction = tf.argmax(model_prediction, 1, name=\"predicted_label\")\n",
    "   \n",
    "# Global step\n",
    "global_step = tf.Variable(0, trainable=False, name='global_step')\n",
    "inc_step = global_step.assign_add(1)\n",
    "\n",
    "with tf.name_scope('summaries'):\n",
    "    summary_label = tf.placeholder(tf.string, [])\n",
    "    tf.scalar_summary(tf.reduce_join([b'loss_', summary_label], 0), loss)\n",
    "    with tf.name_scope('accuracy'):\n",
    "        correct_prediction = tf.equal(label_prediction, tf.argmax(input_labels, 1))\n",
    "        model_accuracy = tf.reduce_mean(tf.cast(correct_prediction, tf.float32))\n",
    "        acc_summ = tf.scalar_summary(tf.reduce_join([b'accuracy_', summary_label], 0), model_accuracy)\n",
    "    \n",
    "merged_summaries = tf.merge_all_summaries()\n",
    "init = tf.initialize_all_variables()"
   ]
  },
  {
   "cell_type": "markdown",
   "metadata": {},
   "source": [
    "# Now run the graph!"
   ]
  },
  {
   "cell_type": "code",
   "execution_count": 20,
   "metadata": {
    "collapsed": true
   },
   "outputs": [],
   "source": [
    "session = tf.Session()\n",
    "writer = tf.train.SummaryWriter(TB_DIR, graph=session.graph)"
   ]
  },
  {
   "cell_type": "code",
   "execution_count": 21,
   "metadata": {
    "collapsed": true
   },
   "outputs": [],
   "source": [
    "session.run(init)"
   ]
  },
  {
   "cell_type": "code",
   "execution_count": 22,
   "metadata": {
    "collapsed": false,
    "scrolled": false
   },
   "outputs": [
    {
     "name": "stdout",
     "output_type": "stream",
     "text": [
      "Minibatch loss at step 50: 2.606535\n",
      "Minibatch accuracy: 0.09375\n",
      "Minibatch loss at step 100: 2.365265\n",
      "Minibatch accuracy: 0.1875\n",
      "Minibatch loss at step 150: 2.148760\n",
      "Minibatch accuracy: 0.28125\n",
      "Minibatch loss at step 200: 2.065212\n",
      "Minibatch accuracy: 0.3125\n",
      "Test accuracy: 0.373931616545\n",
      "Minibatch loss at step 250: 1.790463\n",
      "Minibatch accuracy: 0.453125\n",
      "Minibatch loss at step 300: 1.630063\n",
      "Minibatch accuracy: 0.40625\n",
      "Minibatch loss at step 350: 1.733730\n",
      "Minibatch accuracy: 0.484375\n",
      "Minibatch loss at step 400: 1.262593\n",
      "Minibatch accuracy: 0.625\n",
      "Test accuracy: 0.504273533821\n",
      "Minibatch loss at step 450: 1.292850\n",
      "Minibatch accuracy: 0.59375\n",
      "Minibatch loss at step 500: 1.132885\n",
      "Minibatch accuracy: 0.65625\n",
      "Minibatch loss at step 550: 1.457068\n",
      "Minibatch accuracy: 0.515625\n",
      "Minibatch loss at step 600: 1.290966\n",
      "Minibatch accuracy: 0.515625\n",
      "Test accuracy: 0.583333313465\n",
      "Minibatch loss at step 650: 1.044580\n",
      "Minibatch accuracy: 0.609375\n",
      "Minibatch loss at step 700: 1.329252\n",
      "Minibatch accuracy: 0.625\n",
      "Minibatch loss at step 750: 0.966964\n",
      "Minibatch accuracy: 0.671875\n",
      "Minibatch loss at step 800: 1.281604\n",
      "Minibatch accuracy: 0.640625\n",
      "Test accuracy: 0.626068353653\n",
      "Minibatch loss at step 850: 1.178324\n",
      "Minibatch accuracy: 0.65625\n",
      "Minibatch loss at step 900: 1.280188\n",
      "Minibatch accuracy: 0.5625\n",
      "Minibatch loss at step 950: 1.111102\n",
      "Minibatch accuracy: 0.640625\n",
      "Minibatch loss at step 1000: 1.065927\n",
      "Minibatch accuracy: 0.703125\n",
      "Test accuracy: 0.654380321503\n",
      "Minibatch loss at step 1050: 0.880465\n",
      "Minibatch accuracy: 0.765625\n",
      "Minibatch loss at step 1100: 0.786365\n",
      "Minibatch accuracy: 0.75\n",
      "Minibatch loss at step 1150: 0.673847\n",
      "Minibatch accuracy: 0.765625\n",
      "Minibatch loss at step 1200: 0.952299\n",
      "Minibatch accuracy: 0.671875\n",
      "Test accuracy: 0.680021345615\n",
      "Minibatch loss at step 1250: 0.840813\n",
      "Minibatch accuracy: 0.75\n",
      "Minibatch loss at step 1300: 0.786423\n",
      "Minibatch accuracy: 0.859375\n",
      "Minibatch loss at step 1350: 0.949255\n",
      "Minibatch accuracy: 0.734375\n",
      "Minibatch loss at step 1400: 0.955722\n",
      "Minibatch accuracy: 0.734375\n",
      "Test accuracy: 0.700320541859\n",
      "Minibatch loss at step 1450: 0.828038\n",
      "Minibatch accuracy: 0.796875\n",
      "Minibatch loss at step 1500: 0.936419\n",
      "Minibatch accuracy: 0.71875\n",
      "Minibatch loss at step 1550: 1.047955\n",
      "Minibatch accuracy: 0.65625\n",
      "Minibatch loss at step 1600: 0.992375\n",
      "Minibatch accuracy: 0.71875\n",
      "Test accuracy: 0.71794873476\n",
      "Minibatch loss at step 1650: 0.686024\n",
      "Minibatch accuracy: 0.78125\n",
      "Minibatch loss at step 1700: 0.620642\n",
      "Minibatch accuracy: 0.8125\n",
      "Minibatch loss at step 1750: 0.657466\n",
      "Minibatch accuracy: 0.828125\n",
      "Minibatch loss at step 1800: 0.986916\n",
      "Minibatch accuracy: 0.6875\n",
      "Test accuracy: 0.727029919624\n",
      "Minibatch loss at step 1850: 0.726789\n",
      "Minibatch accuracy: 0.84375\n",
      "Minibatch loss at step 1900: 0.829668\n",
      "Minibatch accuracy: 0.765625\n",
      "Minibatch loss at step 1950: 0.716642\n",
      "Minibatch accuracy: 0.78125\n",
      "Minibatch loss at step 2000: 0.635226\n",
      "Minibatch accuracy: 0.828125\n",
      "Test accuracy: 0.742521345615\n",
      "Minibatch loss at step 2050: 0.655629\n",
      "Minibatch accuracy: 0.8125\n",
      "Minibatch loss at step 2100: 0.809204\n",
      "Minibatch accuracy: 0.78125\n",
      "Minibatch loss at step 2150: 0.571962\n",
      "Minibatch accuracy: 0.859375\n",
      "Minibatch loss at step 2200: 0.714121\n",
      "Minibatch accuracy: 0.8125\n",
      "Test accuracy: 0.75\n",
      "Minibatch loss at step 2250: 0.669376\n",
      "Minibatch accuracy: 0.71875\n",
      "Minibatch loss at step 2300: 0.608288\n",
      "Minibatch accuracy: 0.875\n",
      "Minibatch loss at step 2350: 0.937498\n",
      "Minibatch accuracy: 0.703125\n",
      "Minibatch loss at step 2400: 0.515131\n",
      "Minibatch accuracy: 0.859375\n",
      "Test accuracy: 0.757478654385\n",
      "Minibatch loss at step 2450: 0.706912\n",
      "Minibatch accuracy: 0.84375\n",
      "Minibatch loss at step 2500: 0.596382\n",
      "Minibatch accuracy: 0.84375\n",
      "Minibatch loss at step 2550: 0.773133\n",
      "Minibatch accuracy: 0.734375\n",
      "Minibatch loss at step 2600: 0.931636\n",
      "Minibatch accuracy: 0.734375\n",
      "Test accuracy: 0.765491425991\n",
      "Minibatch loss at step 2650: 0.572990\n",
      "Minibatch accuracy: 0.828125\n",
      "Minibatch loss at step 2700: 0.396859\n",
      "Minibatch accuracy: 0.90625\n",
      "Minibatch loss at step 2750: 0.583930\n",
      "Minibatch accuracy: 0.8125\n",
      "Minibatch loss at step 2800: 0.525979\n",
      "Minibatch accuracy: 0.828125\n",
      "Test accuracy: 0.765491425991\n",
      "Minibatch loss at step 2850: 0.733917\n",
      "Minibatch accuracy: 0.828125\n",
      "Minibatch loss at step 2900: 0.408424\n",
      "Minibatch accuracy: 0.90625\n",
      "Minibatch loss at step 2950: 0.597478\n",
      "Minibatch accuracy: 0.859375\n",
      "Minibatch loss at step 3000: 0.490795\n",
      "Minibatch accuracy: 0.90625\n",
      "Test accuracy: 0.775641024113\n",
      "Test accuracy: 0.776709377766\n"
     ]
    }
   ],
   "source": [
    "num_steps = 3001\n",
    "test_dict = {input_data : test_dataset, input_labels : test_labels,\n",
    "             summary_label: b'validation'}\n",
    "\n",
    "for step in range(num_steps):\n",
    "    offset = (step * batch_size) % (train_labels.shape[0] - batch_size)\n",
    "    batch_data = train_dataset[offset:(offset + batch_size), :]\n",
    "    batch_labels = train_labels[offset:(offset + batch_size), :]\n",
    "    feed_dict = {input_data : batch_data, input_labels : batch_labels,\n",
    "                 summary_label: b'training'}\n",
    "    _, l, predictions, accuracy, summaries, g_step = session.run(\n",
    "        [optimizer, loss, model_prediction, model_accuracy, merged_summaries, inc_step], feed_dict=feed_dict)\n",
    "    if (g_step % 50 == 0):\n",
    "        writer.add_summary(summaries, g_step)\n",
    "        print('Minibatch loss at step %d: %f' % (g_step, l))\n",
    "        print('Minibatch accuracy: {}'.format(accuracy))\n",
    "    if (g_step % 200 == 0):\n",
    "        accuracy, summaries = session.run([model_accuracy, merged_summaries], feed_dict=test_dict)\n",
    "        writer.add_summary(summaries, g_step)\n",
    "        print('Test accuracy: {}'.format(accuracy))\n",
    "        \n",
    "\n",
    "test_accuracy = session.run(model_accuracy, feed_dict=test_dict)\n",
    "print('Test accuracy: {}'.format(test_accuracy))\n",
    "writer.flush()"
   ]
  },
  {
   "cell_type": "code",
   "execution_count": 23,
   "metadata": {
    "collapsed": true
   },
   "outputs": [],
   "source": [
    "writer.close()"
   ]
  },
  {
   "cell_type": "markdown",
   "metadata": {},
   "source": [
    "# For fun, let's inspect some examples"
   ]
  },
  {
   "cell_type": "code",
   "execution_count": 24,
   "metadata": {
    "collapsed": true
   },
   "outputs": [],
   "source": [
    "# Visualize data:\n",
    "import matplotlib.pyplot as plt\n",
    "%matplotlib inline"
   ]
  },
  {
   "cell_type": "code",
   "execution_count": 25,
   "metadata": {
    "collapsed": false
   },
   "outputs": [],
   "source": [
    "def spot_check():\n",
    "    i = np.random.randint(len(test_dataset))\n",
    "    data = test_dataset[i,:]\n",
    "    pixels = np.reshape(data, (image_height, image_width))\n",
    "    plt.imshow(pixels, cmap='gray')\n",
    "    plt.show()\n",
    "    feed_me = np.ndarray((1, image_height * image_width), np.float32)\n",
    "    feed_me[0] = data\n",
    "    feed_dict = {input_data: feed_me}\n",
    "    prediction = session.run(label_prediction, feed_dict=feed_dict)\n",
    "    print(\"Predicted character: \" + chr(prediction + ord('A')))\n",
    "    print(\"Actual label: \" + chr(np.argmax(test_labels[i]) + ord('A')))"
   ]
  },
  {
   "cell_type": "code",
   "execution_count": 26,
   "metadata": {
    "collapsed": false
   },
   "outputs": [
    {
     "data": {
      "image/png": "[encoded data removed]",
      "text/plain": [
       "<matplotlib.figure.Figure at 0x7f88264d0d10>"
      ]
     },
     "metadata": {},
     "output_type": "display_data"
    },
    {
     "name": "stdout",
     "output_type": "stream",
     "text": [
      "Predicted character: I\n",
      "Actual label: I\n"
     ]
    }
   ],
   "source": [
    "spot_check()"
   ]
  },
  {
   "cell_type": "code",
   "execution_count": null,
   "metadata": {
    "collapsed": false
   },
   "outputs": [],
   "source": []
  },
  {
   "cell_type": "code",
   "execution_count": null,
   "metadata": {
    "collapsed": true
   },
   "outputs": [],
   "source": []
  }
 ],
 "metadata": {
  "kernelspec": {
   "display_name": "Python [Root]",
   "language": "python",
   "name": "Python [Root]"
  },
  "language_info": {
   "codemirror_mode": {
    "name": "ipython",
    "version": 2
   },
   "file_extension": ".py",
   "mimetype": "text/x-python",
   "name": "python",
   "nbconvert_exporter": "python",
   "pygments_lexer": "ipython2",
   "version": "2.7.12"
  }
 },
 "nbformat": 4,
 "nbformat_minor": 0
}
